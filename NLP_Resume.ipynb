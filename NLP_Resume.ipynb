{
 "cells": [
  {
   "cell_type": "code",
   "execution_count": 14,
   "metadata": {},
   "outputs": [],
   "source": [
    "# importing required modules\n",
    "import PyPDF2\n",
    "import nltk\n",
    "from nltk.tokenize import word_tokenize, sent_tokenize\n",
    "from nltk.corpus import stopwords\n",
    "\n",
    "\n",
    " \n",
    "# creating a pdf file object\n",
    "pdfFileObj = open('AshwinResumeUpdated.pdf', 'rb')\n",
    " \n",
    "# creating a pdf reader object\n",
    "pdfReader = PyPDF2.PdfFileReader(pdfFileObj)\n",
    " \n",
    "corpus_=''\n",
    "for i in range(pdfReader.numPages):\n",
    "    pageObj = pdfReader.getPage(i)\n",
    "    corpus_+=pageObj.extractText()\n",
    "#print(corpus_)\n",
    "pdfFileObj.close()"
   ]
  },
  {
   "cell_type": "code",
   "execution_count": 19,
   "metadata": {},
   "outputs": [
    {
     "name": "stdout",
     "output_type": "stream",
     "text": [
      "[['2816', 'Ellendale', 'Place', ',', 'Apt', '#', '3', 'ASHWIN', 'VENKATESHA', '(', '213', ')', '431', '-', '7631', 'Los', 'Angeles', ',', 'CA', '90007', 'https', ':', '//github.com/TheMLGuy', 'ashwinve', '@', 'usc.edu', 'EDUCATION', 'Master', 'S', 'ci', 'ence', 'Data', 'Informatics', 'University', 'Southern', 'California', ',', 'CA', 'May', '2019', 'Bachelor', 'E', 'ngineering', 'Information', 'Science', 'Visvesvaraya', 'Technological', 'University', ',', 'India', 'June', '2014', 'TECHNICAL', 'SKILLS', 'Programming', ':', 'Python', ',', 'Java', 'ML', 'Tools', ':', 'Tensorflow', ',', 'Scikit', 'learn', ',', 'Apache', 'Spa', 'rk', ',', 'Hadoop', ',', 'Matplo', 'tlib', ',', 'Keras', 'Databases', ':', 'Oracle', 'SQL', ',', 'MyS', 'QL', ',', 'Firebase', 'OS', ':', 'Unix/Linux', ',', 'Windows', 'WORK', 'EXPERIENCE', 'Graduate', 'Research', 'Programmer', 'Information', 'Sciences', 'Institute', ',', 'USC', 'August', '2017', '-', 'Present', 'Identified', 'anomaly', 'gain', 'ed', 'insights', 'data', 'collected', 'workflow', 'executions', 'environments', '.'], ['Aggregated', 'workflow', 'data', 'comprised', 'read', 'bytes', ',', 'write', 'bytes', ',', 'system', 'read', 'calls', ',', 'system', 'write', 'calls', ',', 'system', 'write', 'calls', 'system', 'specific', 'ttribute', ',', 'Developed', 'modules', 'query', 'database', 'extract', 'data', 'grouped', 'various', 'input', 'parameters', '.'], ['Identified', 'anomalies', 'comparing', 'patterns', 'data', 'specific', 'attribute', '.'], ['Analyzed', 'accrued', 'data', 'presented', 'visualizations', 'system', 'specific', 'attr', 'ibutes', 'associated', 'anomalies', '.'], ['Applied', 'unsupervised', 'chine', 'learning', 'technique', ',', 'fuzzy', 'c', 'means', 'clustering', 'look', 'clustered', 'data', '.'], ['Software', 'Engineer', 'Micro', 'Focus', ',', 'Bangalore', ',', 'India', 'July', '2015', '-', 'May', '2017', 'Automated', 'web', 'application', 'NetIQ', 'Acc', 'ess', 'Manager', 'using', 'Selenium', '.'], ['Administered', 'synergy', 'Bangalore', 'Provo', 'automation', 'frameworks', '.'], ['Directed', 'automation', 'initiative', 'charting', 'plans', 'milestones', '.'], ['Responsible', 'overall', '25', '%', 'growth', 'automated', 'testcases', '.'], ['Ideated', 'inclusion', 'acc', 'umulating', 'data', 'customers', 'analyzing', 'risk', 'detection', 'update', 'existing', 'feature', 'called', 'risk', 'based', 'authentication', '.'], ['Orchestrated', 'training', 'sessions', 'Java', 'internal', 'teams', '.'], ['Associate', 'Software', 'Engineer', 'Novell', ',', 'Bangalore', ',', 'India', 'Sept', '2014', '-', 'June', '2015', 'Coordinated', 'automation', 'initiative', 'desktop', 'client', 'resulted', 'automation', 'almost', '8000', 'testcases', '.'], ['Used', 'J', 'ava', 'IBM', 'STAF', 'automate', 'desktop', 'client', 'Windows', 'Mac', 'systems', '.'], ['PROJECTS', 'Music', 'Recommendation', 'system', 'using', 'scikit', 'learn', 'Analyzed', '1.8', 'GB', 'dataset', 'comprised', 'song', 'metadata', 'implemented', 'popularity', '-', 'based', '-', 'recommendation', 'system', ',', 'item', '-', 'based', '-', 'recommender', 'system', '.'], ['Employed', 'precision', 'recall', 'curve', 'compare', 'model', 'performances', 'identified', 'item', 'based', 'recommender', 'system', 'performs', 'better', 'popularity', 'based', 'recommender', 'system', '.'], ['Exploratory', 'Sentimental', 'analysis', 'I', 'GN', 'Game', 'reviews', 'using', 'TFlearn', 'Analyzed', 'datasets', 'insights', 'related', 'game', 'genre', ',', 'popularity', 'platforms', 'pie', 'charts', '.'], ['Performed', 'sentiment', 'analysis', 'using', 'TFlearn', 'predict', 'sentiment', 'set', '11', 'classes', '.'], ['Accuracy', 'observed', '40', '%', 'using', 'three', 'layers', 'LSTM', '0.9', 'dropout', '.'], ['Classification', 'pokemons', 'using', 'Tensorfow', 'Analyzed', 'poke', 'mon', 'dataset', 'designed', 'artificial', 'neural', 'network', 'tensorflow', 'classify', 'pokemons', 'based', 'various', 'attribute', 'types', '.'], ['Achieved', 'prediction', 'accuracy', '76', '%', '.'], ['Application', 'Kmeans', 'Model', 'Gaussian', 'Mixture', 'Model', 'Applied', 'KMeans', 'unsupervised', 'learning', 'algorithm', 'cluster', '150', '2D', 'points', 'space', '.'], ['Analysed', 'hard', 'clustering', 'versus', 'soft', 'clustering', 'applying', 'expectation', 'maximization', 'algorithm', 'Gaussian', 'mixture', 'model', 'dataset', '.'], ['ACHIE', 'VEMENTS', 'The', 'Security', 'Council', 'Top', 'Performer', 'owing', 'contribution', 'product', 'release', '.']]\n"
     ]
    }
   ],
   "source": [
    "stopword=set(stopwords.words('english'))\n",
    "updated_sentences=[]\n",
    "for i in sent_tokenize(corpus_):\n",
    "    #print(word_tokenize(i))\n",
    "    updated_corpus=[]\n",
    "    for j in word_tokenize(i):\n",
    "        if j not in stopword:\n",
    "            updated_corpus.append(j)\n",
    "    updated_sentences.append(updated_corpus)        \n",
    "print(updated_sentences)            \n",
    "    \n",
    "    "
   ]
  },
  {
   "cell_type": "code",
   "execution_count": 21,
   "metadata": {},
   "outputs": [
    {
     "name": "stdout",
     "output_type": "stream",
     "text": [
      "[('2816', 'CD'), ('Ellendale', 'NNP'), ('Place', 'NNP'), (',', ','), ('Apt', 'NNP'), ('#', '#'), ('3', 'CD'), ('ASHWIN', 'NNP'), ('VENKATESHA', 'NNP'), ('(', '('), ('213', 'CD'), (')', ')'), ('431', 'CD'), ('-', ':'), ('7631', 'CD'), ('Los', 'NNP'), ('Angeles', 'NNP'), (',', ','), ('CA', 'NNP'), ('90007', 'CD'), ('https', 'NN'), (':', ':'), ('//github.com/TheMLGuy', 'JJ'), ('ashwinve', 'NN'), ('@', 'NNP'), ('usc.edu', 'JJ'), ('EDUCATION', 'NNP'), ('Master', 'NNP'), ('S', 'NNP'), ('ci', 'NN'), ('ence', 'NN'), ('Data', 'NNP'), ('Informatics', 'NNP'), ('University', 'NNP'), ('Southern', 'NNP'), ('California', 'NNP'), (',', ','), ('CA', 'NNP'), ('May', 'NNP'), ('2019', 'CD'), ('Bachelor', 'NNP'), ('E', 'NNP'), ('ngineering', 'VBG'), ('Information', 'NNP'), ('Science', 'NNP'), ('Visvesvaraya', 'NNP'), ('Technological', 'NNP'), ('University', 'NNP'), (',', ','), ('India', 'NNP'), ('June', 'NNP'), ('2014', 'CD'), ('TECHNICAL', 'NNP'), ('SKILLS', 'NNP'), ('Programming', 'NNP'), (':', ':'), ('Python', 'NNP'), (',', ','), ('Java', 'NNP'), ('ML', 'NNP'), ('Tools', 'NNP'), (':', ':'), ('Tensorflow', 'NNP'), (',', ','), ('Scikit', 'NNP'), ('learn', 'NN'), (',', ','), ('Apache', 'NNP'), ('Spa', 'NNP'), ('rk', 'NN'), (',', ','), ('Hadoop', 'NNP'), (',', ','), ('Matplo', 'NNP'), ('tlib', 'NN'), (',', ','), ('Keras', 'NNP'), ('Databases', 'VBZ'), (':', ':'), ('Oracle', 'NN'), ('SQL', 'NNP'), (',', ','), ('MyS', 'NNP'), ('QL', 'NNP'), (',', ','), ('Firebase', 'NNP'), ('OS', 'NNP'), (':', ':'), ('Unix/Linux', 'NNP'), (',', ','), ('Windows', 'NNP'), ('WORK', 'NNP'), ('EXPERIENCE', 'NNP'), ('Graduate', 'NNP'), ('Research', 'NNP'), ('Programmer', 'NNP'), ('Information', 'NNP'), ('Sciences', 'NNP'), ('Institute', 'NNP'), (',', ','), ('USC', 'NNP'), ('August', 'NNP'), ('2017', 'CD'), ('-', ':'), ('Present', 'JJ'), ('Identified', 'NNP'), ('anomaly', 'NN'), ('gain', 'NN'), ('ed', 'JJ'), ('insights', 'NNS'), ('data', 'NNS'), ('collected', 'VBD'), ('workflow', 'JJ'), ('executions', 'NNS'), ('environments', 'NNS'), ('.', '.')]\n",
      "[('Aggregated', 'VBN'), ('workflow', 'JJ'), ('data', 'NNS'), ('comprised', 'VBN'), ('read', 'JJ'), ('bytes', 'NNS'), (',', ','), ('write', 'JJ'), ('bytes', 'NNS'), (',', ','), ('system', 'NN'), ('read', 'JJ'), ('calls', 'NNS'), (',', ','), ('system', 'NN'), ('write', 'JJ'), ('calls', 'NNS'), (',', ','), ('system', 'NN'), ('write', 'JJ'), ('calls', 'NNS'), ('system', 'NN'), ('specific', 'JJ'), ('ttribute', 'NN'), (',', ','), ('Developed', 'NNP'), ('modules', 'VBZ'), ('query', 'RB'), ('database', 'JJ'), ('extract', 'NN'), ('data', 'NNS'), ('grouped', 'VBD'), ('various', 'JJ'), ('input', 'NN'), ('parameters', 'NNS'), ('.', '.')]\n",
      "[('Identified', 'VBN'), ('anomalies', 'NNS'), ('comparing', 'VBG'), ('patterns', 'NNS'), ('data', 'NNS'), ('specific', 'JJ'), ('attribute', 'NN'), ('.', '.')]\n",
      "[('Analyzed', 'NNP'), ('accrued', 'VBD'), ('data', 'NNS'), ('presented', 'VBN'), ('visualizations', 'NNS'), ('system', 'NN'), ('specific', 'JJ'), ('attr', 'NN'), ('ibutes', 'NNS'), ('associated', 'JJ'), ('anomalies', 'NNS'), ('.', '.')]\n",
      "[('Applied', 'NNP'), ('unsupervised', 'JJ'), ('chine', 'NN'), ('learning', 'NN'), ('technique', 'NN'), (',', ','), ('fuzzy', 'JJ'), ('c', 'NN'), ('means', 'VBZ'), ('clustering', 'VBG'), ('look', 'VB'), ('clustered', 'VBN'), ('data', 'NNS'), ('.', '.')]\n",
      "[('Software', 'NNP'), ('Engineer', 'NNP'), ('Micro', 'NNP'), ('Focus', 'NNP'), (',', ','), ('Bangalore', 'NNP'), (',', ','), ('India', 'NNP'), ('July', 'NNP'), ('2015', 'CD'), ('-', ':'), ('May', 'NNP'), ('2017', 'CD'), ('Automated', 'NNP'), ('web', 'JJ'), ('application', 'NN'), ('NetIQ', 'NNP'), ('Acc', 'NNP'), ('ess', 'NN'), ('Manager', 'NNP'), ('using', 'VBG'), ('Selenium', 'NNP'), ('.', '.')]\n",
      "[('Administered', 'NNP'), ('synergy', 'NN'), ('Bangalore', 'NNP'), ('Provo', 'NNP'), ('automation', 'NN'), ('frameworks', 'NNS'), ('.', '.')]\n",
      "[('Directed', 'VBN'), ('automation', 'NN'), ('initiative', 'NN'), ('charting', 'NN'), ('plans', 'NNS'), ('milestones', 'NNS'), ('.', '.')]\n",
      "[('Responsible', 'JJ'), ('overall', 'JJ'), ('25', 'CD'), ('%', 'NN'), ('growth', 'NN'), ('automated', 'JJ'), ('testcases', 'NNS'), ('.', '.')]\n",
      "[('Ideated', 'VBN'), ('inclusion', 'NN'), ('acc', 'IN'), ('umulating', 'VBG'), ('data', 'NN'), ('customers', 'NNS'), ('analyzing', 'VBG'), ('risk', 'NN'), ('detection', 'NN'), ('update', 'JJ'), ('existing', 'VBG'), ('feature', 'NN'), ('called', 'VBN'), ('risk', 'NN'), ('based', 'VBN'), ('authentication', 'NN'), ('.', '.')]\n",
      "[('Orchestrated', 'VBN'), ('training', 'NN'), ('sessions', 'NNS'), ('Java', 'NNP'), ('internal', 'JJ'), ('teams', 'NNS'), ('.', '.')]\n",
      "[('Associate', 'NNP'), ('Software', 'NNP'), ('Engineer', 'NNP'), ('Novell', 'NNP'), (',', ','), ('Bangalore', 'NNP'), (',', ','), ('India', 'NNP'), ('Sept', 'NNP'), ('2014', 'CD'), ('-', ':'), ('June', 'NNP'), ('2015', 'CD'), ('Coordinated', 'NNP'), ('automation', 'NN'), ('initiative', 'NN'), ('desktop', 'NN'), ('client', 'NN'), ('resulted', 'VBD'), ('automation', 'NN'), ('almost', 'RB'), ('8000', 'CD'), ('testcases', 'NNS'), ('.', '.')]\n",
      "[('Used', 'VBN'), ('J', 'NNP'), ('ava', 'JJ'), ('IBM', 'NNP'), ('STAF', 'NNP'), ('automate', 'NN'), ('desktop', 'NN'), ('client', 'NN'), ('Windows', 'NNP'), ('Mac', 'NNP'), ('systems', 'NNS'), ('.', '.')]\n",
      "[('PROJECTS', 'NNP'), ('Music', 'NNP'), ('Recommendation', 'NNP'), ('system', 'NN'), ('using', 'VBG'), ('scikit', 'NN'), ('learn', 'NN'), ('Analyzed', 'NNP'), ('1.8', 'CD'), ('GB', 'NNP'), ('dataset', 'NN'), ('comprised', 'VBD'), ('song', 'JJ'), ('metadata', 'NNS'), ('implemented', 'VBN'), ('popularity', 'NN'), ('-', ':'), ('based', 'VBN'), ('-', ':'), ('recommendation', 'NN'), ('system', 'NN'), (',', ','), ('item', 'NN'), ('-', ':'), ('based', 'VBN'), ('-', ':'), ('recommender', 'NN'), ('system', 'NN'), ('.', '.')]\n",
      "[('Employed', 'VBN'), ('precision', 'NN'), ('recall', 'NN'), ('curve', 'NN'), ('compare', 'VBP'), ('model', 'NN'), ('performances', 'NNS'), ('identified', 'VBN'), ('item', 'NN'), ('based', 'VBN'), ('recommender', 'NN'), ('system', 'NN'), ('performs', 'VBZ'), ('better', 'JJR'), ('popularity', 'NN'), ('based', 'VBN'), ('recommender', 'NN'), ('system', 'NN'), ('.', '.')]\n",
      "[('Exploratory', 'NNP'), ('Sentimental', 'NNP'), ('analysis', 'NN'), ('I', 'PRP'), ('GN', 'NNP'), ('Game', 'NNP'), ('reviews', 'VBZ'), ('using', 'VBG'), ('TFlearn', 'NNP'), ('Analyzed', 'NNP'), ('datasets', 'NNS'), ('insights', 'RB'), ('related', 'JJ'), ('game', 'NN'), ('genre', 'NN'), (',', ','), ('popularity', 'NN'), ('platforms', 'NNS'), ('pie', 'VBP'), ('charts', 'NNS'), ('.', '.')]\n",
      "[('Performed', 'NNP'), ('sentiment', 'NN'), ('analysis', 'NN'), ('using', 'VBG'), ('TFlearn', 'NNP'), ('predict', 'JJ'), ('sentiment', 'NN'), ('set', 'VBN'), ('11', 'CD'), ('classes', 'NNS'), ('.', '.')]\n",
      "[('Accuracy', 'NNP'), ('observed', 'VBD'), ('40', 'CD'), ('%', 'NN'), ('using', 'VBG'), ('three', 'CD'), ('layers', 'NNS'), ('LSTM', 'VBP'), ('0.9', 'CD'), ('dropout', 'NN'), ('.', '.')]\n",
      "[('Classification', 'NN'), ('pokemons', 'NNS'), ('using', 'VBG'), ('Tensorfow', 'NNP'), ('Analyzed', 'NNP'), ('poke', 'VBD'), ('mon', 'JJ'), ('dataset', 'NN'), ('designed', 'VBN'), ('artificial', 'JJ'), ('neural', 'JJ'), ('network', 'NN'), ('tensorflow', 'JJ'), ('classify', 'NN'), ('pokemons', 'NNS'), ('based', 'VBN'), ('various', 'JJ'), ('attribute', 'JJ'), ('types', 'NNS'), ('.', '.')]\n",
      "[('Achieved', 'VBN'), ('prediction', 'NN'), ('accuracy', 'NN'), ('76', 'CD'), ('%', 'NN'), ('.', '.')]\n",
      "[('Application', 'NN'), ('Kmeans', 'NNPS'), ('Model', 'NNP'), ('Gaussian', 'NNP'), ('Mixture', 'NNP'), ('Model', 'NNP'), ('Applied', 'NNP'), ('KMeans', 'NNP'), ('unsupervised', 'VBD'), ('learning', 'VBG'), ('algorithm', 'JJ'), ('cluster', 'NN'), ('150', 'CD'), ('2D', 'CD'), ('points', 'NNS'), ('space', 'NN'), ('.', '.')]\n",
      "[('Analysed', 'VBN'), ('hard', 'JJ'), ('clustering', 'VBG'), ('versus', 'NN'), ('soft', 'JJ'), ('clustering', 'VBG'), ('applying', 'VBG'), ('expectation', 'NN'), ('maximization', 'NN'), ('algorithm', 'NN'), ('Gaussian', 'JJ'), ('mixture', 'NN'), ('model', 'NN'), ('dataset', 'NN'), ('.', '.')]\n",
      "[('ACHIE', 'NNP'), ('VEMENTS', 'NNP'), ('The', 'DT'), ('Security', 'NNP'), ('Council', 'NNP'), ('Top', 'NNP'), ('Performer', 'NNP'), ('owing', 'VBG'), ('contribution', 'NN'), ('product', 'NN'), ('release', 'NN'), ('.', '.')]\n"
     ]
    }
   ],
   "source": [
    "for i in updated_sentences:\n",
    "    print(nltk.pos_tag(i))"
   ]
  },
  {
   "cell_type": "code",
   "execution_count": null,
   "metadata": {
    "collapsed": true
   },
   "outputs": [],
   "source": []
  }
 ],
 "metadata": {
  "kernelspec": {
   "display_name": "Python [conda root]",
   "language": "python",
   "name": "conda-root-py"
  },
  "language_info": {
   "codemirror_mode": {
    "name": "ipython",
    "version": 3
   },
   "file_extension": ".py",
   "mimetype": "text/x-python",
   "name": "python",
   "nbconvert_exporter": "python",
   "pygments_lexer": "ipython3",
   "version": "3.5.3"
  }
 },
 "nbformat": 4,
 "nbformat_minor": 2
}
