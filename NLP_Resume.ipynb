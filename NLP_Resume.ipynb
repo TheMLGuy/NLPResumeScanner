{
 "cells": [
  {
   "cell_type": "code",
   "execution_count": 5,
   "metadata": {},
   "outputs": [
    {
     "name": "stdout",
     "output_type": "stream",
     "text": [
      "<class 'str'>\n"
     ]
    }
   ],
   "source": [
    "# importing required modules\n",
    "import PyPDF2\n",
    "from nltk.tokenize import word_tokenize, sent_tokenize\n",
    "\n",
    " \n",
    "# creating a pdf file object\n",
    "pdfFileObj = open('AshwinResumeUpdated.pdf', 'rb')\n",
    " \n",
    "# creating a pdf reader object\n",
    "pdfReader = PyPDF2.PdfFileReader(pdfFileObj)\n",
    " \n",
    "corpus_=''\n",
    "for i in range(pdfReader.numPages):\n",
    "    pageObj = pdfReader.getPage(i)\n",
    "    corpus_+=pageObj.extractText()\n",
    "#print(corpus_)\n",
    "pdfFileObj.close()"
   ]
  },
  {
   "cell_type": "code",
   "execution_count": 7,
   "metadata": {},
   "outputs": [
    {
     "name": "stdout",
     "output_type": "stream",
     "text": [
      "['2816', 'Ellendale', 'Place', ',', 'Apt', '#', '3', 'ASHWIN', 'VENKATESHA', '(', '213', ')', '431', '-', '7631', 'Los', 'Angeles', ',', 'CA', '90007', 'https', ':', '//github.com/TheMLGuy', 'ashwinve', '@', 'usc.edu', 'EDUCATION', 'Master', 'of', 'S', 'ci', 'ence', 'in', 'Data', 'Informatics', 'University', 'of', 'Southern', 'California', ',', 'CA', 'May', '2019', 'Bachelor', 'of', 'E', 'ngineering', 'in', 'Information', 'Science', 'Visvesvaraya', 'Technological', 'University', ',', 'India', 'June', '2014', 'TECHNICAL', 'SKILLS', 'Programming', ':', 'Python', ',', 'Java', 'ML', 'Tools', ':', 'Tensorflow', ',', 'Scikit', 'learn', ',', 'Apache', 'Spa', 'rk', ',', 'Hadoop', ',', 'Matplo', 'tlib', ',', 'Keras', 'Databases', ':', 'Oracle', 'SQL', ',', 'MyS', 'QL', ',', 'Firebase', 'OS', ':', 'Unix/Linux', ',', 'Windows', 'WORK', 'EXPERIENCE', 'Graduate', 'Research', 'Programmer', 'Information', 'Sciences', 'Institute', ',', 'USC', 'August', '2017', '-', 'Present', 'Identified', 'anomaly', 'and', 'gain', 'ed', 'insights', 'from', 'data', 'collected', 'from', 'workflow', 'executions', 'environments', '.']\n",
      "['Aggregated', 'workflow', 'data', 'comprised', 'of', 'read', 'bytes', ',', 'write', 'bytes', ',', 'system', 'read', 'calls', ',', 'system', 'write', 'calls', ',', 'system', 'write', 'calls', 'and', 'other', 'system', 'specific', 'a', 'ttribute', 's', ',', 'Developed', 'modules', 'to', 'query', 'database', 'and', 'extract', 'data', 'grouped', 'on', 'various', 'input', 'parameters', '.']\n",
      "['Identified', 'anomalies', 'by', 'comparing', 'patterns', 'of', 'data', 'specific', 'to', 'each', 'attribute', '.']\n",
      "['Analyzed', 'accrued', 'data', 'and', 'presented', 'visualizations', 'of', 'system', 'specific', 'attr', 'ibutes', 'with', 'associated', 'anomalies', '.']\n",
      "['Applied', 'unsupervised', 'ma', 'chine', 'learning', 'technique', ',', 'fuzzy', 'c', 'means', 'clustering', 'to', 'look', 'for', 'clustered', 'data', '.']\n",
      "['Software', 'Engineer', 'Micro', 'Focus', ',', 'Bangalore', ',', 'India', 'July', '2015', '-', 'May', '2017', 'Automated', 'web', 'application', 'of', 'NetIQ', 'Acc', 'ess', 'Manager', 'using', 'Selenium', '.']\n",
      "['Administered', 'the', 'synergy', 'of', 'Bangalore', 'and', 'Provo', 'automation', 'frameworks', '.']\n",
      "['Directed', 'automation', 'initiative', 'by', 'charting', 'out', 'plans', 'and', 'milestones', '.']\n",
      "['Responsible', 'for', 'overall', '25', '%', 'growth', 'in', 'automated', 'testcases', '.']\n",
      "['Ideated', 'the', 'inclusion', 'of', 'acc', 'umulating', 'data', 'from', 'customers', 'and', 'analyzing', 'it', 'for', 'risk', 'detection', 'as', 'an', 'update', 'to', 'existing', 'feature', 'called', 'risk', 'based', 'authentication', '.']\n",
      "['Orchestrated', 'training', 'sessions', 'on', 'Java', 'to', 'internal', 'teams', '.']\n",
      "['Associate', 'Software', 'Engineer', 'Novell', ',', 'Bangalore', ',', 'India', 'Sept', '2014', '-', 'June', '2015', 'Coordinated', 'the', 'automation', 'initiative', 'for', 'the', 'desktop', 'client', 'which', 'resulted', 'in', 'automation', 'of', 'almost', '8000', 'testcases', '.']\n",
      "['Used', 'J', 'ava', 'and', 'IBM', 'STAF', 'to', 'automate', 'desktop', 'client', 'on', 'Windows', 'and', 'Mac', 'systems', '.']\n",
      "['PROJECTS', 'Music', 'Recommendation', 'system', 'using', 'scikit', 'learn', 'Analyzed', '1.8', 'GB', 'dataset', 'comprised', 'of', 'song', 'metadata', 'and', 'implemented', 'popularity', '-', 'based', '-', 'recommendation', 'system', ',', 'and', 'item', '-', 'based', '-', 'recommender', 'system', '.']\n",
      "['Employed', 'precision', 'recall', 'curve', 'to', 'compare', 'model', 'performances', 'and', 'identified', 'that', 'item', 'based', 'recommender', 'system', 'performs', 'better', 'than', 'popularity', 'based', 'recommender', 'system', '.']\n",
      "['Exploratory', 'and', 'Sentimental', 'analysis', 'of', 'I', 'GN', 'Game', 'reviews', 'using', 'TFlearn', 'Analyzed', 'datasets', 'for', 'insights', 'related', 'to', 'game', 'genre', ',', 'popularity', 'and', 'platforms', 'with', 'pie', 'charts', '.']\n",
      "['Performed', 'sentiment', 'analysis', 'using', 'TFlearn', 'to', 'predict', 'a', 'sentiment', 'from', 'a', 'set', 'of', '11', 'classes', '.']\n",
      "['Accuracy', 'observed', 'is', '40', '%', 'after', 'using', 'three', 'layers', 'of', 'LSTM', 'with', '0.9', 'dropout', '.']\n",
      "['Classification', 'of', 'pokemons', 'using', 'Tensorfow', 'Analyzed', 'poke', 'mon', 'dataset', 'and', 'designed', 'an', 'artificial', 'neural', 'network', 'in', 'tensorflow', 'to', 'classify', 'pokemons', 'based', 'on', 'various', 'attribute', 'types', '.']\n",
      "['Achieved', 'a', 'prediction', 'accuracy', 'of', '76', '%', '.']\n",
      "['Application', 'of', 'Kmeans', 'Model', 'and', 'Gaussian', 'Mixture', 'Model', 'Applied', 'KMeans', 'unsupervised', 'learning', 'algorithm', 'to', 'cluster', '150', '2D', 'points', 'in', 'space', '.']\n",
      "['Analysed', 'hard', 'clustering', 'versus', 'soft', 'clustering', 'by', 'applying', 'expectation', 'maximization', 'algorithm', 'on', 'Gaussian', 'mixture', 'model', 'on', 'same', 'dataset', '.']\n",
      "['ACHIE', 'VEMENTS', 'The', 'Security', 'Council', 'Top', 'Performer', 'owing', 'to', 'my', 'contribution', 'during', 'product', 'release', '.']\n"
     ]
    }
   ],
   "source": [
    "for i in sent_tokenize(corpus_):\n",
    "    print(word_tokenize(i))\n",
    "    \n",
    "    "
   ]
  },
  {
   "cell_type": "code",
   "execution_count": null,
   "metadata": {
    "collapsed": true
   },
   "outputs": [],
   "source": []
  }
 ],
 "metadata": {
  "kernelspec": {
   "display_name": "Python [conda root]",
   "language": "python",
   "name": "conda-root-py"
  },
  "language_info": {
   "codemirror_mode": {
    "name": "ipython",
    "version": 3
   },
   "file_extension": ".py",
   "mimetype": "text/x-python",
   "name": "python",
   "nbconvert_exporter": "python",
   "pygments_lexer": "ipython3",
   "version": "3.5.3"
  }
 },
 "nbformat": 4,
 "nbformat_minor": 2
}
